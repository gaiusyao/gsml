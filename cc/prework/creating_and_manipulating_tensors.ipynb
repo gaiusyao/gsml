{
 "cells": [
  {
   "cell_type": "markdown",
   "metadata": {},
   "source": [
    "# 创建和操控张量"
   ]
  },
  {
   "cell_type": "markdown",
   "metadata": {},
   "source": [
    "**学习目标：**\n",
    "\n",
    "- 初始化 TensorFlow `变量`并赋值\n",
    "- 创建和操控张量\n",
    "- 回忆线性代数中的加法和乘法知识（如果这些内容对您来说很陌生，请参阅矩阵[加法](https://en.wikipedia.org/wiki/Matrix_addition)和[乘法](https://en.wikipedia.org/wiki/Matrix_multiplication)简介）\n",
    "- 熟悉基本的 TensorFlow 数学和数组运算"
   ]
  },
  {
   "cell_type": "code",
   "execution_count": 1,
   "metadata": {},
   "outputs": [],
   "source": [
    "import tensorflow as tf"
   ]
  },
  {
   "cell_type": "markdown",
   "metadata": {},
   "source": [
    "## 矢量加法"
   ]
  },
  {
   "cell_type": "markdown",
   "metadata": {},
   "source": [
    "&emsp;&emsp;可以对张量执行很多典型数学运算 ([TF API](https://www.tensorflow.org/api_guides/python/math_ops))。以下代码会创建和操控两个矢量（一维张量），每个矢量正好六个元素："
   ]
  },
  {
   "cell_type": "code",
   "execution_count": 2,
   "metadata": {},
   "outputs": [
    {
     "name": "stdout",
     "output_type": "stream",
     "text": [
      "[ 3  4  6  8 12 14]\n"
     ]
    }
   ],
   "source": [
    "with tf.Graph().as_default():\n",
    "    # Create a six-element vector (1-D tensor)\n",
    "    primes = tf.constant([2, 3, 5, 7, 11, 13], dtype=tf.int32)\n",
    "    \n",
    "    # Create another six-element vector. Each element in the vector will be\n",
    "    # initialized to 1. The first argument is the shape of the tensor (more on shapes below).\n",
    "    ones = tf.ones([6], dtype=tf.int32)\n",
    "    \n",
    "    # Add the two vectors. The resulting tensor is a six-element vector.\n",
    "    just_beyond_primes = tf.add(primes, ones)\n",
    "    \n",
    "    # Create a session to run the default graph.\n",
    "    with tf.Session() as sess:\n",
    "        print(just_beyond_primes.eval())"
   ]
  },
  {
   "cell_type": "markdown",
   "metadata": {},
   "source": [
    "### 张量形状"
   ]
  },
  {
   "cell_type": "markdown",
   "metadata": {},
   "source": [
    "&emsp;&emsp;形状用于描述张量维度的大小和数量。张量的形状表示为*列表*，其中第 `i` 个元素表示维度的大小。列表的长度表示张量的阶（即维数）。\n",
    "\n",
    "&emsp;&emsp;有关详情。请参阅[ TensorFlow 文档](https://www.tensorflow.org/programmers_guide/tensors#shape)。\n",
    "\n",
    "&emsp;&emsp;以下是一些基本示例："
   ]
  },
  {
   "cell_type": "code",
   "execution_count": 3,
   "metadata": {},
   "outputs": [
    {
     "name": "stdout",
     "output_type": "stream",
     "text": [
      "scalar has shape () and value:\n",
      " 0.0\n",
      "vector has shape (3,) and value:\n",
      " [ 0.  0.  0.]\n",
      "matrix has shape (2, 3) and value:\n",
      " [[ 0.  0.  0.]\n",
      " [ 0.  0.  0.]]\n"
     ]
    }
   ],
   "source": [
    "with tf.Graph().as_default():\n",
    "    # A scalar (0-D tensor).\n",
    "    scalar = tf.zeros([])\n",
    "\n",
    "    # A vector with 3 elements.\n",
    "    vector = tf.zeros([3])\n",
    "\n",
    "    # A matrix with 2 rows and 3 columns.\n",
    "    matrix = tf.zeros([2, 3])\n",
    "\n",
    "    with tf.Session() as sess:\n",
    "        print('scalar has shape', scalar.get_shape(), 'and value:\\n', scalar.eval())\n",
    "        print('vector has shape', vector.get_shape(), 'and value:\\n', vector.eval())\n",
    "        print('matrix has shape', matrix.get_shape(), 'and value:\\n', matrix.eval())"
   ]
  },
  {
   "cell_type": "markdown",
   "metadata": {},
   "source": [
    "### 广播"
   ]
  },
  {
   "cell_type": "markdown",
   "metadata": {},
   "source": [
    "&emsp;&emsp;在数学中，您只能对形状相同的张量执行元素级运算（例如，*相加*和等于）。不过，在 TensorFlow 中，您可以对张量执行传统意义上不可行的运算。TensorFlow 支持**广播**（一种借鉴自 Numpy 的概念）。利用广播，元素级运算中的较小数组会增大到与较大数组具有相同的形状。例如，通过广播：\n",
    "\n",
    "- 如果指令需要大小为 `[6]` 的张量，则大小为 `[1]` 或 `[]` 的张量可以作为运算数。\n",
    "- 如果指令需要大小为 `[4, 6]` 的张量，则以下任何大小的张量都可以作为运算数。\n",
    "    - `[1, 6]`\n",
    "    - `[6]`\n",
    "    - `[]`\n",
    "- 如果指令需要大小为 `[3, 5, 6]` 的张量，则以下任何大小的张量都可以作为运算数。\n",
    "    - `[1, 5, 6]`\n",
    "    - `[3, 1, 6]`\n",
    "    - `[3, 5, 1]`\n",
    "    - `[1, 1, 1]`\n",
    "    - `[5, 6]`\n",
    "    - `[1, 6]`\n",
    "    - `[6]`\n",
    "    - `[1]`\n",
    "    - `[]`\n",
    "\n",
    "> **注意：**当张量被广播时，从概念上来说，系统会**复制**其条目（出于性能考虑，实际并不复制。广播专为实现性能优化而设计）。\n",
    "\n",
    "&emsp;&emsp;有关完整的广播规则集，请参阅简单易懂的 [Numpy 广播文档](http://docs.scipy.org/doc/numpy-1.10.1/user/basics.broadcasting.html)。\n",
    "\n",
    "&emsp;&emsp;以下代码执行了与之前一样的张量加法，不过使用的是广播："
   ]
  },
  {
   "cell_type": "code",
   "execution_count": 4,
   "metadata": {},
   "outputs": [
    {
     "name": "stdout",
     "output_type": "stream",
     "text": [
      "[ 3  4  6  8 12 14]\n"
     ]
    }
   ],
   "source": [
    "with tf.Graph().as_default():\n",
    "    # Create a six-element vector (1-D tensor).\n",
    "    primes = tf.constant([2, 3, 5, 7, 11, 13], dtype=tf.int32)\n",
    "\n",
    "    # Create a constant scalar with value 1.\n",
    "    ones = tf.constant(1, dtype=tf.int32)\n",
    "\n",
    "    # Add the two tensors. The resulting tensor is a six-element vector.\n",
    "    just_beyond_primes = tf.add(primes, ones)\n",
    "\n",
    "    with tf.Session() as sess:\n",
    "        print(just_beyond_primes.eval())"
   ]
  },
  {
   "cell_type": "markdown",
   "metadata": {},
   "source": [
    "## 矩阵乘法"
   ]
  },
  {
   "cell_type": "markdown",
   "metadata": {},
   "source": [
    "&emsp;&emsp;在线性代数中，当两个矩阵相乘时，第一个矩阵的列数必须等于第二个矩阵的行数。\n",
    "\n",
    "- `3x4` 矩阵乘以 `4x2` 矩阵是有效的，可以得出一个 3x2 矩阵。\n",
    "- `4x2` 矩阵乘以 `3x4` 矩阵是无效的。"
   ]
  },
  {
   "cell_type": "code",
   "execution_count": 5,
   "metadata": {},
   "outputs": [
    {
     "name": "stdout",
     "output_type": "stream",
     "text": [
      "[[35 58]\n",
      " [35 33]\n",
      " [ 1 -4]]\n"
     ]
    }
   ],
   "source": [
    "with tf.Graph().as_default():\n",
    "    # Create a matrix (2-d tensor) with 3 rows and 4 columns.\n",
    "    x = tf.constant([[5, 2, 4, 3], [5, 1, 6, -2], [-1, 3, -1, -2]],\n",
    "                    dtype=tf.int32)\n",
    "        \n",
    "    # Create a matrix with 4 rows and 2 columns.\n",
    "    y = tf.constant([[2, 2], [3, 5], [4, 5], [1, 6]], dtype=tf.int32)\n",
    "\n",
    "    # Multiply `x` by `y`. \n",
    "    # The resulting matrix will have 3 rows and 2 columns.\n",
    "    matrix_multiply_result = tf.matmul(x, y)\n",
    "\n",
    "    with tf.Session() as sess:\n",
    "        print(matrix_multiply_result.eval())"
   ]
  },
  {
   "cell_type": "markdown",
   "metadata": {},
   "source": [
    "## 张量变形"
   ]
  },
  {
   "cell_type": "markdown",
   "metadata": {},
   "source": [
    "&emsp;&emsp;由于张量加法和矩阵乘法均对运算数施加了限制条件，TensorFlow 编程者肯定会频繁改变张量的形状。\n",
    "\n",
    "&emsp;&emsp;可以使用 tf.reshape 方法改变张量的形状。 例如，可以将 8x2 张量变形为 2x8 张量或 4x4 张量："
   ]
  },
  {
   "cell_type": "code",
   "execution_count": 6,
   "metadata": {},
   "outputs": [
    {
     "name": "stdout",
     "output_type": "stream",
     "text": [
      "Original matrix (8x2):\n",
      "[[ 1  2]\n",
      " [ 3  4]\n",
      " [ 5  6]\n",
      " [ 7  8]\n",
      " [ 9 10]\n",
      " [11 12]\n",
      " [13 14]\n",
      " [15 16]]\n",
      "Reshaped matrix (2x8):\n",
      "[[ 1  2  3  4  5  6  7  8]\n",
      " [ 9 10 11 12 13 14 15 16]]\n",
      "Reshaped matrix (4x4):\n",
      "[[ 1  2  3  4]\n",
      " [ 5  6  7  8]\n",
      " [ 9 10 11 12]\n",
      " [13 14 15 16]]\n"
     ]
    }
   ],
   "source": [
    "with tf.Graph().as_default():\n",
    "    # Create an 8x2 matrix (2-D tensor).\n",
    "    matrix = tf.constant([[1,2], [3,4], [5,6], [7,8],\n",
    "                          [9,10], [11,12], [13, 14], [15,16]], dtype=tf.int32)\n",
    "\n",
    "    # Reshape the 8x2 matrix into a 2x8 matrix.\n",
    "    reshaped_2x8_matrix = tf.reshape(matrix, [2,8])\n",
    "  \n",
    "    # Reshape the 8x2 matrix into a 4x4 matrix\n",
    "    reshaped_4x4_matrix = tf.reshape(matrix, [4,4])\n",
    "\n",
    "    with tf.Session() as sess:\n",
    "        print(\"Original matrix (8x2):\")\n",
    "        print(matrix.eval())\n",
    "        print(\"Reshaped matrix (2x8):\")\n",
    "        print(reshaped_2x8_matrix.eval())\n",
    "        print(\"Reshaped matrix (4x4):\")\n",
    "        print(reshaped_4x4_matrix.eval())"
   ]
  },
  {
   "cell_type": "markdown",
   "metadata": {},
   "source": [
    "&emsp;&emsp;此外，还可以使用 `tf.reshape` 更改张量的维数（阶）。 例如，您可以将 8x2 张量变形为三维 2x2x4 张量或一维 16 元素张量。"
   ]
  },
  {
   "cell_type": "code",
   "execution_count": 7,
   "metadata": {},
   "outputs": [
    {
     "name": "stdout",
     "output_type": "stream",
     "text": [
      "Original matrix (8x2):\n",
      "[[ 1  2]\n",
      " [ 3  4]\n",
      " [ 5  6]\n",
      " [ 7  8]\n",
      " [ 9 10]\n",
      " [11 12]\n",
      " [13 14]\n",
      " [15 16]]\n",
      "Reshaped 3-D tensor (2x2x4):\n",
      "[[[ 1  2  3  4]\n",
      "  [ 5  6  7  8]]\n",
      "\n",
      " [[ 9 10 11 12]\n",
      "  [13 14 15 16]]]\n",
      "1-D vector:\n",
      "[ 1  2  3  4  5  6  7  8  9 10 11 12 13 14 15 16]\n"
     ]
    }
   ],
   "source": [
    "with tf.Graph().as_default():\n",
    "    # Create an 8x2 matrix (2-D tensor).\n",
    "    matrix = tf.constant([[1,2], [3,4], [5,6], [7,8],\n",
    "                          [9,10], [11,12], [13, 14], [15,16]], dtype=tf.int32)\n",
    "\n",
    "    # Reshape the 8x2 matrix into a 3-D 2x2x4 tensor.\n",
    "    reshaped_2x2x4_tensor = tf.reshape(matrix, [2,2,4])\n",
    "\n",
    "    # Reshape the 8x2 matrix into a 1-D 16-element tensor.\n",
    "    one_dimensional_vector = tf.reshape(matrix, [16])\n",
    "\n",
    "    with tf.Session() as sess:\n",
    "        print(\"Original matrix (8x2):\")\n",
    "        print(matrix.eval())\n",
    "        print(\"Reshaped 3-D tensor (2x2x4):\")\n",
    "        print(reshaped_2x2x4_tensor.eval())\n",
    "        print(\"1-D vector:\")\n",
    "        print(one_dimensional_vector.eval())"
   ]
  },
  {
   "cell_type": "markdown",
   "metadata": {},
   "source": [
    "###  练习1：改变两个张量的形状，使其能够相乘"
   ]
  },
  {
   "cell_type": "markdown",
   "metadata": {},
   "source": [
    "下面两个矢量无法进行矩阵乘法运算：\n",
    "\n",
    "- `a = tf.constant([5, 3, 2, 7, 1, 4])`\n",
    "- `b = tf.constant([4, 6, 3])`\n",
    "\n",
    "&emsp;&emsp;请改变这两个矢量的形状，使其成为可以进行矩阵乘法运算的运算数。 然后，对变形后的张量调用矩阵乘法运算。"
   ]
  },
  {
   "cell_type": "code",
   "execution_count": 8,
   "metadata": {},
   "outputs": [
    {
     "name": "stdout",
     "output_type": "stream",
     "text": [
      "[[44]\n",
      " [46]]\n"
     ]
    }
   ],
   "source": [
    "with tf.Graph().as_default(), tf.Session() as sess:\n",
    "    # Task: Reshape two tensors in order to multiply them\n",
    "    \n",
    "    # Here are the original operands, which are incompatible\n",
    "    # for matrix multiplication:\n",
    "    a = tf.constant([5, 3, 2, 7, 1, 4])\n",
    "    b = tf.constant([4, 6, 3])\n",
    "    # We need to reshape at least one of these operands so that\n",
    "    # the number of columns in the first operand equals the number\n",
    "    # of rows in the second operand.\n",
    "\n",
    "    # Reshape vector \"a\" into a 2-D 2x3 matrix:\n",
    "    reshaped_a = tf.reshape(a, [2,3])\n",
    "\n",
    "    # Reshape vector \"b\" into a 2-D 3x1 matrix:\n",
    "    reshaped_b = tf.reshape(b, [3,1])\n",
    "\n",
    "    # The number of columns in the first matrix now equals\n",
    "    # the number of rows in the second matrix. Therefore, you\n",
    "    # can matrix mutiply the two operands.\n",
    "    c = tf.matmul(reshaped_a, reshaped_b)\n",
    "    print(c.eval())\n",
    "\n",
    "    # An alternate approach: [6,1] x [1, 3] -> [6,3]"
   ]
  },
  {
   "cell_type": "markdown",
   "metadata": {},
   "source": [
    "## 变量、初始化和赋值"
   ]
  },
  {
   "cell_type": "markdown",
   "metadata": {},
   "source": [
    "&emsp;&emsp;到目前为止，我们执行的所有运算都是针对静态值 (`tf.constant`) 进行的；调用 `eval()` 始终返回同一结果。在 TensorFlow 中可以定义 `Variable` 对象，它的值是可以更改的。\n",
    "\n",
    "&emsp;&emsp;创建变量时，您可以明确设置一个初始值，也可以使用初始化程序（例如分布）："
   ]
  },
  {
   "cell_type": "code",
   "execution_count": 9,
   "metadata": {},
   "outputs": [],
   "source": [
    "g = tf.Graph()\n",
    "with g.as_default():\n",
    "    # Create a variable with the initial value 3.\n",
    "    v = tf.Variable([3])\n",
    "\n",
    "    # Create a variable of shape [1], with a random initial value,\n",
    "    # sampled from a normal distribution with mean 1 and standard deviation 0.35.\n",
    "    w = tf.Variable(tf.random_normal([1], mean=1.0, stddev=0.35))"
   ]
  },
  {
   "cell_type": "markdown",
   "metadata": {},
   "source": [
    "&emsp;&emsp;TensorFlow 的一个特性是**变量初始化不是自动进行的**。例如，以下代码块会导致错误："
   ]
  },
  {
   "cell_type": "code",
   "execution_count": 10,
   "metadata": {},
   "outputs": [
    {
     "name": "stdout",
     "output_type": "stream",
     "text": [
      "Caught expected error:  Attempting to use uninitialized value Variable\n",
      "\t [[Node: _retval_Variable_0_0 = _Retval[T=DT_INT32, index=0, _device=\"/job:localhost/replica:0/task:0/cpu:0\"](Variable)]]\n"
     ]
    }
   ],
   "source": [
    "with g.as_default():\n",
    "    with tf.Session() as sess:\n",
    "        try:\n",
    "            v.eval()\n",
    "        except tf.errors.FailedPreconditionError as e:\n",
    "            print(\"Caught expected error: \", e)"
   ]
  },
  {
   "cell_type": "markdown",
   "metadata": {},
   "source": [
    "&emsp;&emsp;要初始化变量，最简单的方式是调用 `global_variables_initializer`。请注意 `Session.run()` 的用法（与 eval() 的用法大致相同）。"
   ]
  },
  {
   "cell_type": "code",
   "execution_count": 11,
   "metadata": {},
   "outputs": [
    {
     "name": "stdout",
     "output_type": "stream",
     "text": [
      "[3]\n",
      "[ 1.72681665]\n"
     ]
    }
   ],
   "source": [
    "with g.as_default():\n",
    "    with tf.Session() as sess:\n",
    "        initialization = tf.global_variables_initializer()\n",
    "        sess.run(initialization)\n",
    "        # Now, variables can be accessed normally, and have values assigned to them.\n",
    "        print(v.eval())\n",
    "        print(w.eval())"
   ]
  },
  {
   "cell_type": "markdown",
   "metadata": {},
   "source": [
    "&emsp;&emsp;初始化后，变量的值保留在同一会话中（不过，当您启动新会话时，需要重新初始化它们）："
   ]
  },
  {
   "cell_type": "code",
   "execution_count": 12,
   "metadata": {},
   "outputs": [
    {
     "name": "stdout",
     "output_type": "stream",
     "text": [
      "[ 0.43169618]\n",
      "[ 0.43169618]\n",
      "[ 0.43169618]\n"
     ]
    }
   ],
   "source": [
    "with g.as_default():\n",
    "    with tf.Session() as sess:\n",
    "        sess.run(tf.global_variables_initializer())\n",
    "        # These three prints will print the same value.\n",
    "        print(w.eval())\n",
    "        print(w.eval())\n",
    "        print(w.eval())"
   ]
  },
  {
   "cell_type": "markdown",
   "metadata": {},
   "source": [
    "&emsp;&emsp;要更改变量的值，请使用 `assign` 指令。请注意，仅创建 `assign` 指令不会起到任何作用。和初始化一样，必须 `run` 赋值指令才能更新变量值："
   ]
  },
  {
   "cell_type": "code",
   "execution_count": 13,
   "metadata": {},
   "outputs": [
    {
     "name": "stdout",
     "output_type": "stream",
     "text": [
      "[3]\n",
      "[3]\n",
      "[7]\n"
     ]
    }
   ],
   "source": [
    "with g.as_default():\n",
    "    with tf.Session() as sess:\n",
    "        sess.run(tf.global_variables_initializer())\n",
    "        # This should print the variable's initial value.\n",
    "        print(v.eval())\n",
    "\n",
    "        assignment = tf.assign(v, [7])\n",
    "        # The variable has not been changed yet!\n",
    "        print(v.eval())\n",
    "\n",
    "        # Execute the assignment op.\n",
    "        sess.run(assignment)\n",
    "        # Now the variable is updated.\n",
    "        print(v.eval())"
   ]
  },
  {
   "cell_type": "markdown",
   "metadata": {},
   "source": [
    "&emsp;&emsp;还有很多关于变量的内容我们并未在这里提及，例如加载和存储。要了解详情，请参阅 [TensorFlow 文档](https://www.tensorflow.org/programmers_guide/variables)。"
   ]
  },
  {
   "cell_type": "markdown",
   "metadata": {},
   "source": [
    "### 练习 2：模拟投掷两个骰子 10 次"
   ]
  },
  {
   "cell_type": "markdown",
   "metadata": {},
   "source": [
    "&emsp;&emsp;创建一个骰子模拟，在模拟中生成一个 10x3 二维张量，其中：\n",
    "\n",
    "- 列 `1` 和 `2` 均存储一个骰子的一次投掷值。\n",
    "- 列 `3` 存储同一行中列 `1` 和 `2` 的值的总和。\n",
    "\n",
    "&emsp;&emsp;例如，第一行中可能会包含以下值：\n",
    "\n",
    "- 列 `1` 存储 `4`\n",
    "- 列 `2` 存储 `3`\n",
    "- 列 `3` 存储 `7`\n",
    "\n",
    "&emsp;&emsp;要完成此任务，需要浏览 [TensorFlow 文档](https://www.tensorflow.org/api_guides/python/array_ops)。"
   ]
  },
  {
   "cell_type": "code",
   "execution_count": 14,
   "metadata": {},
   "outputs": [
    {
     "name": "stdout",
     "output_type": "stream",
     "text": [
      "[[ 3  3  6]\n",
      " [ 3  5  8]\n",
      " [ 2  6  8]\n",
      " [ 2  3  5]\n",
      " [ 2  2  4]\n",
      " [ 6  2  8]\n",
      " [ 1  6  7]\n",
      " [ 4  4  8]\n",
      " [ 5  2  7]\n",
      " [ 6  5 11]]\n"
     ]
    }
   ],
   "source": [
    "with tf.Graph().as_default(), tf.Session() as sess:\n",
    "    # Task 2: Simulate 10 throws of two dice. Store the results\n",
    "    # in a 10x3 matrix.\n",
    "\n",
    "    # We're going to place dice throws inside two separate\n",
    "    # 10x1 matrices. We could have placed dice throws inside\n",
    "    # a single 10x2 matrix, but adding different columns of\n",
    "    # the same matrix is tricky. We also could have placed\n",
    "    # dice throws inside two 1-D tensors (vectors); doing so\n",
    "    # would require transposing the result.\n",
    "    dice1 = tf.Variable(tf.random_uniform([10, 1],\n",
    "                                          minval=1, maxval=7,\n",
    "                                          dtype=tf.int32))\n",
    "    dice2 = tf.Variable(tf.random_uniform([10, 1],\n",
    "                                          minval=1, maxval=7,\n",
    "                                          dtype=tf.int32))\n",
    "\n",
    "    # We may add dice1 and dice2 since they share the same shape\n",
    "    # and size.\n",
    "    dice_sum = tf.add(dice1, dice2)\n",
    "\n",
    "    # We've got three separate 10x1 matrices. To produce a single\n",
    "    # 10x3 matrix, we'll concatenate them along dimension 1.\n",
    "    resulting_matrix = tf.concat(values=[dice1, dice2, dice_sum], axis=1)\n",
    "\n",
    "    # The variables haven't been initialized within the graph yet,\n",
    "    # so let's remedy that.\n",
    "    sess.run(tf.global_variables_initializer())\n",
    "\n",
    "    print(resulting_matrix.eval())"
   ]
  },
  {
   "cell_type": "code",
   "execution_count": null,
   "metadata": {},
   "outputs": [],
   "source": []
  }
 ],
 "metadata": {
  "hide_input": false,
  "kernelspec": {
   "display_name": "Python 3",
   "language": "python",
   "name": "python3"
  },
  "language_info": {
   "codemirror_mode": {
    "name": "ipython",
    "version": 3
   },
   "file_extension": ".py",
   "mimetype": "text/x-python",
   "name": "python",
   "nbconvert_exporter": "python",
   "pygments_lexer": "ipython3",
   "version": "3.6.4"
  }
 },
 "nbformat": 4,
 "nbformat_minor": 2
}
