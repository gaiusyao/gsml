{
 "cells": [
  {
   "cell_type": "markdown",
   "metadata": {},
   "source": [
    "# 前提条件和准备工作"
   ]
  },
  {
   "cell_type": "markdown",
   "metadata": {},
   "source": [
    "## 前提条件"
   ]
  },
  {
   "cell_type": "markdown",
   "metadata": {},
   "source": [
    "- **掌握入门级代数知识。**包括变量和系数、线性方程式、函数图和直方图（熟悉对数和导数等更高级的数学概念会更有帮助，但不是必需条件）。\n",
    "- **掌握编程基础知识，具有一定python编程经验。**本课程的编程练习是通过 [Tensorflw](https://tensorflow.google.cn/) 并使用 [Python](https://www.python.org/) 进行编码的。无需拥有使用 TensorFlow 的任何经验，但应该能够熟练阅读和编写包含基础编程结构（例如，函数的定义和调用、列表和字典、循环和条件表达式）的 Python 代码。\n",
    "\n",
    "> **注意：**有关机器学习速成课程中使用的数学和编程概念的详细列表，请参阅下面的主要概念和工具部分，其中列出了每个概念的参考资料。"
   ]
  },
  {
   "cell_type": "markdown",
   "metadata": {},
   "source": [
    "## 准备工作"
   ]
  },
  {
   "cell_type": "markdown",
   "metadata": {},
   "source": [
    "###  Pandas入门"
   ]
  },
  {
   "cell_type": "markdown",
   "metadata": {},
   "source": [
    "&emsp;&emsp;机器学习速成课程中的编程练习使用 [Pandas](http://pandas.pydata.org/) 库来操控数据集。如果你不熟悉 Pandas，可以先通过 [Ten Minutes to Pandas](https://nbviewer.jupyter.org/github/gaiusyao/gaius_nb/blob/master/tutorials/Ten_Minutes_to_Pandas.ipynb) 快速了解 Pandas，也可以通过 [Intro to Pandas](https://nbviewer.jupyter.org/github/gaiusyao/gsml/blob/master/cc/prework/intro_to_pandas.ipynb) 了解练习中使用的主要 Pandas 功能。"
   ]
  },
  {
   "cell_type": "markdown",
   "metadata": {},
   "source": [
    "### 低阶 TensorFlow 基础知识"
   ]
  },
  {
   "cell_type": "markdown",
   "metadata": {},
   "source": [
    "&emsp;&emsp;机器学习速成课程中的编程练习使用 TensorFlow 的高阶 [tf.estimator API](https://tensorflow.google.cn/api_docs/python/tf/estimator/Estimator) 来配置模型。如果你有兴趣从头开始构建 TensorFlow 模型，请学习以下教程：\n",
    "\n",
    "- [Hello World](https://nbviewer.jupyter.org/github/gaiusyao/gsml/blob/master/cc/prework/hello_world.ipynb)：在低阶 TensorFlow 中编码的“Hello World”。\n",
    "- [Tensorflow Programming Concepts]() ：演示了 TensorFlow 应用中的基本组件——张量、指令、图和会话。\n",
    "- [ Creating and Manipulating Tensors]()：介绍了 TensorFlow 编程中的核心概念——张量。此外，还提供了线性代数中的矩阵加法和乘法方面的复习进修内容。"
   ]
  },
  {
   "cell_type": "markdown",
   "metadata": {
    "heading_collapsed": true
   },
   "source": [
    "## 主要概念和工具"
   ]
  },
  {
   "cell_type": "markdown",
   "metadata": {
    "heading_collapsed": true,
    "hidden": true
   },
   "source": [
    "### 数学"
   ]
  },
  {
   "cell_type": "markdown",
   "metadata": {
    "hidden": true
   },
   "source": [
    "#### 代数"
   ]
  },
  {
   "cell_type": "markdown",
   "metadata": {
    "hidden": true
   },
   "source": [
    "- [变量](https://www.khanacademy.org/math/algebra/introduction-to-algebra/alg1-intro-to-variables/v/what-is-a-variable)、[系数](https://www.khanacademy.org/math/cc-sixth-grade-math/cc-6th-equivalent-exp/cc-6th-parts-of-expressions/v/expression-terms-factors-and-coefficients)和[函数](https://www.khanacademy.org/math/algebra/algebra-functions)\n",
    "- [线性方程式](https://wikipedia.org/wiki/Linear_equation)\n",
    "- [对数和对数方程式](https://wikipedia.org/wiki/Logarithm)\n",
    "- [S型函数](https://wikipedia.org/wiki/Sigmoid_function)"
   ]
  },
  {
   "cell_type": "markdown",
   "metadata": {
    "hidden": true
   },
   "source": [
    "#### 线性代数"
   ]
  },
  {
   "cell_type": "markdown",
   "metadata": {
    "hidden": true
   },
   "source": [
    "- [张量和张量等级](https://tensorflow.google.cn/programmers_guide/tensors)\n",
    "- [矩阵乘法](https://wikipedia.org/wiki/Matrix_multiplication)"
   ]
  },
  {
   "cell_type": "markdown",
   "metadata": {
    "hidden": true
   },
   "source": [
    "#### 三角学"
   ]
  },
  {
   "cell_type": "markdown",
   "metadata": {
    "hidden": true
   },
   "source": [
    "- [Tanh](https://reference.wolfram.com/language/ref/Tanh.html)（作为[激活函数](https://developers.google.cn/machine-learning/crash-course/glossary#activation_function)进行讲解，无需提前掌握相关知识）"
   ]
  },
  {
   "cell_type": "markdown",
   "metadata": {
    "hidden": true
   },
   "source": [
    "#### 统计信息"
   ]
  },
  {
   "cell_type": "markdown",
   "metadata": {
    "hidden": true
   },
   "source": [
    "- [平均值](https://www.khanacademy.org/math/probability/data-distributions-a1/summarizing-center-distributions/v/mean-median-and-mode)、 [中间值](https://www.khanacademy.org/math/probability/data-distributions-a1/summarizing-center-distributions/v/mean-median-and-mode)、 [离群值](https://www.khanacademy.org/math/probability/data-distributions-a1/summarizing-center-distributions/v/mean-median-and-mode)和[标准偏差](https://wikipedia.org/wiki/Standard_deviation)\n",
    "- 能读懂[直方图](https://wikipedia.org/wiki/Histogram)"
   ]
  },
  {
   "cell_type": "markdown",
   "metadata": {
    "hidden": true
   },
   "source": [
    "#### 微积分*（可选，适合高级主题）*"
   ]
  },
  {
   "cell_type": "markdown",
   "metadata": {
    "hidden": true
   },
   "source": [
    "- [导数](https://wikipedia.org/wiki/Derivative)概念（不必真正计算导数）\n",
    "- [梯度](https://www.khanacademy.org/math/multivariable-calculus/multivariable-derivatives/gradient-and-directional-derivatives/v/gradient)或斜率\n",
    "- [偏导数](https://wikipedia.org/wiki/Partial_derivative)（与梯度紧密相关）\n",
    "- [链式法则](https://wikipedia.org/wiki/Chain_rule)（可全面了解用于训练神经网络的[反向传播算法](https://developers.google.cn/machine-learning/crash-course/backprop-scroll/)）"
   ]
  },
  {
   "cell_type": "markdown",
   "metadata": {
    "heading_collapsed": true,
    "hidden": true
   },
   "source": [
    "### Python编程"
   ]
  },
  {
   "cell_type": "markdown",
   "metadata": {
    "hidden": true
   },
   "source": [
    "#### 基础 Python"
   ]
  },
  {
   "cell_type": "markdown",
   "metadata": {
    "hidden": true
   },
   "source": [
    "- [定义和调用函数](https://docs.python.org/3/tutorial/controlflow.html#defining-functions)：使用位置和[关键字](https://docs.python.org/3/tutorial/controlflow.html#keyword-arguments)参数\n",
    "- [字典](https://docs.python.org/3/tutorial/datastructures.html#dictionaries)、[列表](https://docs.python.org/3/tutorial/introduction.html#lists)、[集合](https://docs.python.org/3/tutorial/datastructures.html#sets)（创建、访问和迭代）\n",
    "- [`for` 循环](https://docs.python.org/3/tutorial/controlflow.html#for-statements)：包含多个迭代器变量的 `for` 循环（例如 `for a, b in [(1,2), (3,4)]`）\n",
    "- [`if/else` 条件块](https://docs.python.org/3/tutorial/controlflow.html#if-statements)和[条件表达式](https://docs.python.org/2.5/whatsnew/pep-308.html)\n",
    "- [字符串格式化](https://docs.python.org/3/tutorial/inputoutput.html#old-string-formatting)（例如` '%.2f' % 3.14`）\n",
    "- 变量、赋值、[基本数据类型](https://docs.python.org/3/tutorial/introduction.html#using-python-as-a-calculator)（`int`、`float`、`bool`、`str`）\n",
    "- [`pass` 语句](https://docs.python.org/3/tutorial/controlflow.html#pass-statements)"
   ]
  },
  {
   "cell_type": "markdown",
   "metadata": {
    "hidden": true
   },
   "source": [
    "#### 中级Python"
   ]
  },
  {
   "cell_type": "markdown",
   "metadata": {
    "hidden": true
   },
   "source": [
    "- [列表推导式](https://docs.python.org/3/tutorial/datastructures.html#list-comprehensions)\n",
    "- [Lambda 函数](https://docs.python.org/3/tutorial/controlflow.html#lambda-expressions)"
   ]
  },
  {
   "cell_type": "markdown",
   "metadata": {
    "heading_collapsed": true,
    "hidden": true
   },
   "source": [
    "### 第三方Python库"
   ]
  },
  {
   "cell_type": "markdown",
   "metadata": {
    "hidden": true
   },
   "source": [
    "- [Matplotlib](http://matplotlib.org/contents.html)（适合数据可视化）\n",
    "    - [`pyplot`](http://matplotlib.org/api/pyplot_api.html) 模块\n",
    "    - [`cm`](http://matplotlib.org/api/cm_api.html) 模块\n",
    "    - [`gridspec`](http://matplotlib.org/api/gridspec_api.html) 模块\n",
    "- [Seaborn](http://seaborn.pydata.org/index.html)（适合热图）\n",
    "    - [`heatmap`](http://seaborn.pydata.org/generated/seaborn.heatmap.html) 函数\n",
    "- [Pandas](http://pandas.pydata.org/)（适合数据处理）\n",
    "    - [`DataFrame`](http://pandas.pydata.org/pandas-docs/stable/dsintro.html#dataframe) 类\n",
    "- [NumPy](http://www.numpy.org/)（适合低阶数学运算）\n",
    "    - [`linspace`](https://docs.scipy.org/doc/numpy-1.10.0/reference/generated/numpy.linspace.html) 函数\n",
    "    - [`random`](https://docs.scipy.org/doc/numpy/reference/generated/numpy.random.random.html#numpy.random.random) 函数\n",
    "    - [`array`](https://docs.scipy.org/doc/numpy/reference/generated/numpy.array.html) 函数\n",
    "    - [`arange`](https://docs.scipy.org/doc/numpy/reference/generated/numpy.arange.html) 函数\n",
    "- [scikit-learn](http://scikit-learn.org/)（适合评估指标）\n",
    "    - [metrics](http://scikit-learn.org/stable/modules/classes.html#module-sklearn.metrics) 模块"
   ]
  },
  {
   "cell_type": "markdown",
   "metadata": {
    "heading_collapsed": true,
    "hidden": true
   },
   "source": [
    "### 主要工具"
   ]
  },
  {
   "cell_type": "markdown",
   "metadata": {
    "hidden": true
   },
   "source": [
    "#### Bash 终端/云端控制台"
   ]
  },
  {
   "cell_type": "markdown",
   "metadata": {
    "hidden": true
   },
   "source": [
    "- [Bash 参考手册](https://tiswww.case.edu/php/chet/bash/bashref.html)\n",
    "- [Bash 快速参考表](https://github.com/LeCoupa/awesome-cheatsheets/blob/master/languages/bash.sh)\n",
    "- [了解 Shell](http://www.learnshell.org/)"
   ]
  },
  {
   "cell_type": "markdown",
   "metadata": {
    "hidden": true
   },
   "source": [
    "#### Anaconda"
   ]
  },
  {
   "cell_type": "markdown",
   "metadata": {
    "hidden": true
   },
   "source": [
    "- [Anaconda入门使用指南](https://www.jianshu.com/p/169403f7e40c)\n",
    "- [Anaconda 下载](https://www.anaconda.com/download/)"
   ]
  },
  {
   "cell_type": "markdown",
   "metadata": {
    "hidden": true
   },
   "source": [
    "#### Jupyter Notebook"
   ]
  },
  {
   "cell_type": "markdown",
   "metadata": {
    "hidden": true
   },
   "source": [
    "- [Jupyter Notebook 快速入门](https://www.cnblogs.com/nxld/p/6566380.html)\n",
    "- [在 Jupyter Notebook 中更换主题与折叠代码](http://blog.csdn.net/leayc/article/details/78162141?locationNum=8&fps=1)"
   ]
  },
  {
   "cell_type": "code",
   "execution_count": null,
   "metadata": {
    "hidden": true
   },
   "outputs": [],
   "source": []
  }
 ],
 "metadata": {
  "hide_input": false,
  "kernelspec": {
   "display_name": "Python 3",
   "language": "python",
   "name": "python3"
  },
  "language_info": {
   "codemirror_mode": {
    "name": "ipython",
    "version": 3
   },
   "file_extension": ".py",
   "mimetype": "text/x-python",
   "name": "python",
   "nbconvert_exporter": "python",
   "pygments_lexer": "ipython3",
   "version": "3.6.4"
  }
 },
 "nbformat": 4,
 "nbformat_minor": 2
}
