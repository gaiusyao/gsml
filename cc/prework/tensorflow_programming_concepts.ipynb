{
 "cells": [
  {
   "cell_type": "markdown",
   "metadata": {},
   "source": [
    "# TensorFlow 编程概念"
   ]
  },
  {
   "cell_type": "markdown",
   "metadata": {},
   "source": [
    "**学习目标：**\n",
    "\n",
    "- 学习 TensorFlow 编程模型的基础知识，重点了解以下概念：\n",
    "    - 张量\n",
    "    - 指令\n",
    "    - 图\n",
    "    - 会话\n",
    "- 构建一个简单的 TensorFlow 程序，使用该程序绘制一个默认图并创建一个运行该图的会话\n",
    "\n",
    "> **注意：**请仔细阅读本教程。TensorFlow 编程模型很可能与您遇到的其他模型不同，因此可能不如你期望的那样直观。"
   ]
  },
  {
   "cell_type": "markdown",
   "metadata": {},
   "source": [
    "## 概念概览"
   ]
  },
  {
   "cell_type": "markdown",
   "metadata": {},
   "source": [
    "&emsp;&emsp;TensorFlow 的名称源自**张量**，张量是任意维度的数组。借助 TensorFlow，您可以操控具有大量维度的张量。即便如此，在大多数情况下，您会使用以下一个或多个低维张量：\n",
    "\n",
    "- **标量**是零维数组（零阶张量）。例如，`\\'Howdy\\' `或 `5`\n",
    "- **矢量**是一维数组（一阶张量）。例如，`[2, 3, 5, 7, 11]` 或 `[5]`\n",
    "- **矩阵**是二维数组（二阶张量）。例如，`[[3.1, 8.2, 5.9][4.3, -2.7, 6.5]]`\n",
    "\n",
    "&emsp;&emsp;TensorFlow **指令**会创建、销毁和操控张量。典型 TensorFlow 程序中的大多数代码行都是指令。\n",
    "\n",
    "&emsp;&emsp;TensorFlow **图**（也称为**计算图**或**数据流图**）是一种图数据结构。很多 TensorFlow 程序由单个图构成，但是 TensorFlow 程序可以选择创建多个图。图的节点是指令；图的边是张量。张量流经图，在每个节点由一个指令操控。一个指令的输出张量通常会变成后续指令的输入张量。TensorFlow 会实现**延迟执行模型**，意味着系统仅会根据相关节点的需求在需要时计算节点。\n",
    "\n",
    "&emsp;&emsp;张量可以作为**常量**或**变量**存储在图中。常量存储的是值不会发生更改的张量，而变量存储的是值会发生更改的张量。要注意，常量和变量都只是图中的一种指令。常量是始终会返回同一张量值的指令。变量是会返回分配给它的任何张量的指令。\n",
    "\n",
    "&emsp;&emsp;要定义常量，请使用 `tf.constant` 指令，并传入它的值。例如：\n",
    "```\n",
    "  x = tf.constant([5.2])\n",
    "```  \n",
    "同样，您可以创建如下变量：\n",
    "```\n",
    "  y = tf.Variable([5])\n",
    "```\n",
    "&emsp;&emsp;或者，您也可以先创建变量，然后再如下所示地分配一个值（注意：您始终需要指定一个默认值）：\n",
    "```\n",
    "  y = tf.Variable([0])\n",
    "  y = y.assign([5])\n",
    "```\n",
    "&emsp;&emsp;定义一些常量或变量后，您可以将它们与其他指令（如 `tf.add`）结合使用。在评估 tf.add 指令时，它会调用您的 `tf.constant` 或 `tf.Variable` 指令，以获取它们的值，然后返回一个包含这些值之和的新张量。\n",
    "\n",
    "&emsp;&emsp;图必须在 **TensorFlow 会话**中运行，会话存储了它所运行的图的状态：\n",
    "```\n",
    "  # 将 tf.Session() 作为会话：\n",
    "  initialization = tf.global_variables_initializer()\n",
    "  print y.eval()\n",
    " ```\n",
    "&emsp;&emsp;在使用 `tf.Variable` 时，您必须在会话开始时调用 `tf.global_variables_initializer`，以明确初始化这些变量，如上所示。\n",
    "\n",
    "> 注意：会话可以将图分发到多个机器上执行（假设程序在某个分布式计算框架上运行）。有关详情，请参阅[分布式 TensorFlow](https://www.tensorflow.org/deploy/distributed)。"
   ]
  },
  {
   "cell_type": "markdown",
   "metadata": {},
   "source": [
    "## 创建一个简单的 Tensorflow 程序"
   ]
  },
  {
   "cell_type": "markdown",
   "metadata": {},
   "source": [
    "&emsp;&emsp;编写一个将两个常量相加的简单 TensorFlow 程序。"
   ]
  },
  {
   "cell_type": "markdown",
   "metadata": {},
   "source": [
    "### 添加import语句"
   ]
  },
  {
   "cell_type": "code",
   "execution_count": 1,
   "metadata": {},
   "outputs": [],
   "source": [
    "import tensorflow as tf # 运行 Tensor flow 必填\n",
    "\n",
    "# import常用的第三方库\n",
    "import matplotlib.pyplot as plt # 数据集可视化\n",
    "import numpy as np # 低级数字 Python 库\n",
    "import pandas as pd # 较高级别的数字 Python 库"
   ]
  },
  {
   "cell_type": "markdown",
   "metadata": {},
   "source": [
    "### 创建图"
   ]
  },
  {
   "cell_type": "markdown",
   "metadata": {},
   "source": [
    "&emsp;&emsp;TensorFlow 提供了一个默认图。不过，最好明确创建自己的 Graph，以便跟踪状态（例如，你可能希望在每个单元格中使用一个不同的 Graph）。"
   ]
  },
  {
   "cell_type": "code",
   "execution_count": 2,
   "metadata": {},
   "outputs": [
    {
     "name": "stdout",
     "output_type": "stream",
     "text": [
      "13\n"
     ]
    }
   ],
   "source": [
    "import tensorflow as tf\n",
    "\n",
    "# Create a graph\n",
    "g = tf.Graph()\n",
    "\n",
    "# Establish the graph as the \"default\" graph.\n",
    "with g.as_default():\n",
    "    # Assemble a graph consisting of the following three operations:\n",
    "    #   * Two tf.constant operations to create the operands.\n",
    "    #   * One tf.add operation to add the two operands.\n",
    "    x = tf.constant(8, name=\"x_const\")\n",
    "    y = tf.constant(5, name=\"y_const\")\n",
    "    sum = tf.add(x, y, name=\"x_y_sum\")\n",
    "\n",
    "\n",
    "    # Now create a session.\n",
    "    # The session will run the default graph.\n",
    "    with tf.Session() as sess:\n",
    "        print(sum.eval())"
   ]
  },
  {
   "cell_type": "markdown",
   "metadata": {},
   "source": [
    "### 练习：引入第三个运算数"
   ]
  },
  {
   "cell_type": "markdown",
   "metadata": {},
   "source": [
    "&emsp;&emsp;修改上面的代码列表，以将三个整数（而不是两个）相加：\n",
    "\n",
    "1. 定义第三个标量整数常量 `z`，并为其分配一个值 `4`。\n",
    "2. 将 `sum`与 `z` 相加，以得出一个新的和。\n",
    "3. 重新运行修改后的代码块。该程序是否生成了正确的总和？\n",
    "\n",
    "> **提示：**请参阅有关 [tf.add()](https://www.tensorflow.org/api_docs/python/tf/add) 的 API 文档，了解有关其函数签名的更多详细信息。"
   ]
  },
  {
   "cell_type": "code",
   "execution_count": 3,
   "metadata": {},
   "outputs": [
    {
     "name": "stdout",
     "output_type": "stream",
     "text": [
      "42\n"
     ]
    }
   ],
   "source": [
    "# Create a graph.\n",
    "g = tf.Graph()\n",
    "\n",
    "# Establish our graph as the \"default\" graph.\n",
    "with g.as_default():\n",
    "    # Assemble a graph consisting of three operations. \n",
    "    # (Creating a tensor is an operation.)\n",
    "    x = tf.constant(8, name=\"x_const\")\n",
    "    y = tf.constant(5, name=\"y_const\")\n",
    "    sum = tf.add(x, y, name=\"x_y_sum\")\n",
    "  \n",
    "    # Task 1: Define a third scalar integer constant z.\n",
    "    z = tf.constant(29, name=\"z_const\")\n",
    "    # Task 2: Add z to `sum` to yield a new sum.\n",
    "    new_sum = tf.add(sum, z, name=\"x_y_z_sum\")\n",
    "\n",
    "    # Now create a session.\n",
    "    # The session will run the default graph.\n",
    "    with tf.Session() as sess:\n",
    "    # Task 3: Ensure the program yields the correct grand total.\n",
    "        print(new_sum.eval())"
   ]
  },
  {
   "cell_type": "code",
   "execution_count": null,
   "metadata": {},
   "outputs": [],
   "source": []
  }
 ],
 "metadata": {
  "hide_input": false,
  "kernelspec": {
   "display_name": "Python 3",
   "language": "python",
   "name": "python3"
  },
  "language_info": {
   "codemirror_mode": {
    "name": "ipython",
    "version": 3
   },
   "file_extension": ".py",
   "mimetype": "text/x-python",
   "name": "python",
   "nbconvert_exporter": "python",
   "pygments_lexer": "ipython3",
   "version": "3.6.4"
  }
 },
 "nbformat": 4,
 "nbformat_minor": 2
}
