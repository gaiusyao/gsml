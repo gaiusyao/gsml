{
 "cells": [
  {
   "cell_type": "markdown",
   "metadata": {},
   "source": [
    "# 机器学习主要术语"
   ]
  },
  {
   "cell_type": "markdown",
   "metadata": {},
   "source": [
    "**（监督式）机器学习：**\n",
    "- 机器学习系统通过学习如何组合输入信息来对从未见过的数据做出有用的预测。"
   ]
  },
  {
   "cell_type": "markdown",
   "metadata": {},
   "source": [
    "## 标签"
   ]
  },
  {
   "cell_type": "markdown",
   "metadata": {},
   "source": [
    "&emsp;&emsp;在简单线性回归中，**标签**是我们要预测的事物，即 `y` 变量。标签可以是小麦未来的价格、图片中显示的动物品种、音频剪辑的含义或任何事物。"
   ]
  },
  {
   "cell_type": "markdown",
   "metadata": {},
   "source": [
    "## 特征"
   ]
  },
  {
   "cell_type": "markdown",
   "metadata": {},
   "source": [
    "&emsp;&emsp;在简单线性回归中，特征是输入变量，即 x 变量。简单的机器学习项目可能会使用单个特征，而比较复杂的机器学习项目可能会使用数百万个特征，按如下方式指定：\n",
    "\n",
    "> $\\{x_1, x_2, ... x_N\\}$\n",
    "\n",
    "&emsp;&emsp;在垃圾邮件检测器示例中，特征可能包括：\n",
    "\n",
    "- 电子邮件文本中的字词\n",
    "- 发件人的地址\n",
    "- 发送电子邮件的时段\n",
    "- 电子邮件中包含“一种奇怪的把戏”这样的短语。"
   ]
  },
  {
   "cell_type": "markdown",
   "metadata": {},
   "source": [
    "## 样本"
   ]
  },
  {
   "cell_type": "markdown",
   "metadata": {},
   "source": [
    "&emsp;&emsp;样本是指数据的特定实例：x。（我们采用粗体 x 表示它是一个矢量。）我们将样本分为以下两类：\n",
    "\n",
    "- 有标签样本\n",
    "- 无标签样本\n",
    "\n",
    "&emsp;&emsp;有标签样本同时包含特征和标签。即：\n",
    "```\n",
    "  labeled examples: {features, label}: (x, y)\n",
    "```  \n",
    "&emsp;&emsp;我们使用有标签样本来训练模型。在我们的垃圾邮件检测器示例中，有标签样本是用户明确标记为“垃圾邮件”或“非垃圾邮件”的各个电子邮件。\n",
    "\n",
    "&emsp;&emsp;例如，下表显示了从包含加利福尼亚州房价信息的数据集中抽取的 5 个有标签样本：\n",
    "\n",
    "housingMedianAge（特征） | totalRooms（特征） | totalBedrooms（特征） | medianHouseValue（标签）\n",
    "---|---|---|---\n",
    "15 | 5612 | 1283 | 66900\n",
    "19 | 7650 | 1901 | 80100\n",
    "17 | 720 | 174 | 85700\n",
    "14 | 1501 | 337 | 73400\n",
    "20 | 1454 | 326 | 65500\n",
    "\n",
    "&emsp;&emsp;无标签样本包含特征，但不包含标签。即：\n",
    "```\n",
    "  unlabeled examples: {features, ?}: (x, ?)\n",
    "```\n",
    "&emsp;&emsp;在使用有标签样本训练了我们的模型之后，我们会使用该模型来预测无标签样本的标签。在垃圾邮件检测器示例中，无标签样本是用户尚未添加标签的新电子邮件。"
   ]
  },
  {
   "cell_type": "markdown",
   "metadata": {},
   "source": [
    "## 回归和分类"
   ]
  },
  {
   "cell_type": "markdown",
   "metadata": {},
   "source": [
    "&emsp;&emsp;**回归**模型可预测连续值。例如，回归模型做出的预测可回答如下问题：\n",
    "\n",
    "- 加利福尼亚州一栋房产的价值是多少？\n",
    "- 用户点击此广告的概率是多少？\n",
    "\n",
    "&emsp;&emsp;**分类**模型可预测离散值。例如，分类模型做出的预测可回答如下问题：\n",
    "\n",
    "- 某个指定电子邮件是垃圾邮件还是非垃圾邮件？\n",
    "- 这是一张狗、猫还是仓鼠图片？"
   ]
  },
  {
   "cell_type": "markdown",
   "metadata": {},
   "source": [
    "## 检查理解情况"
   ]
  },
  {
   "cell_type": "markdown",
   "metadata": {},
   "source": [
    "### 监督式学习"
   ]
  },
  {
   "cell_type": "markdown",
   "metadata": {},
   "source": [
    "&emsp;&emsp;假设您想开发一种监督式机器学习模型来预测指定的电子邮件是“垃圾邮件”还是“非垃圾邮件”。以下哪些表述正确？\n",
    "- [x] 未标记为“垃圾邮件”或“非垃圾邮件”的电子邮件是无标签样本。\n",
    "- [ ] 我们将使用无标签样本来训练模型。\n",
    "- [x] 有些标签可能不可靠。\n",
    "- [ ] 主题标头中的字词适合做标签。"
   ]
  },
  {
   "cell_type": "markdown",
   "metadata": {},
   "source": [
    "### 特征和标签"
   ]
  },
  {
   "cell_type": "markdown",
   "metadata": {},
   "source": [
    "&emsp;&emsp;假设一家在线鞋店希望创建一种监督式机器学习模型，以便为用户提供合乎个人需求的鞋子推荐。也就是说，该模型会向小马推荐某些鞋子，而向小美推荐另外一些鞋子。以下哪些表述正确？\n",
    "- [x] 鞋码是一项实用特征。\n",
    "- [ ] 鞋的美观程度是一项实用特征。\n",
    "- [x] 用户点击鞋子描述的次数是一项实用特征。\n",
    "- [ ] 用户喜欢的鞋子是一种实用标签。"
   ]
  },
  {
   "cell_type": "code",
   "execution_count": null,
   "metadata": {},
   "outputs": [],
   "source": []
  }
 ],
 "metadata": {
  "hide_input": false,
  "kernelspec": {
   "display_name": "Python 3",
   "language": "python",
   "name": "python3"
  },
  "language_info": {
   "codemirror_mode": {
    "name": "ipython",
    "version": 3
   },
   "file_extension": ".py",
   "mimetype": "text/x-python",
   "name": "python",
   "nbconvert_exporter": "python",
   "pygments_lexer": "ipython3",
   "version": "3.6.4"
  }
 },
 "nbformat": 4,
 "nbformat_minor": 2
}
